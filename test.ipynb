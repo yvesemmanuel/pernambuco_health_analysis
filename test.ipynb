{
 "cells": [
  {
   "cell_type": "code",
   "execution_count": 9,
   "metadata": {},
   "outputs": [],
   "source": [
    "import pandas as pd"
   ]
  },
  {
   "cell_type": "code",
   "execution_count": 11,
   "metadata": {},
   "outputs": [],
   "source": [
    "excel_file = pd.ExcelFile('./data/raw/CIS_2021.xlsx')"
   ]
  },
  {
   "cell_type": "code",
   "execution_count": 14,
   "metadata": {},
   "outputs": [
    {
     "data": {
      "text/plain": [
       "['Menu',\n",
       " 'Identific_Estado',\n",
       " 'Identific_Macro',\n",
       " 'Identific_Região',\n",
       " 'Identific_Mun',\n",
       " 'Demografia',\n",
       " 'Saneamento',\n",
       " 'RedeAssist',\n",
       " 'ProfEquip',\n",
       " 'FinancAss',\n",
       " 'AssAmb',\n",
       " 'AssHosp',\n",
       " 'Atencao Basica',\n",
       " 'Nascimentos',\n",
       " 'Mortalidade',\n",
       " 'Orçamento',\n",
       " 'Transferências FNS',\n",
       " 'Dados',\n",
       " 'Demografico',\n",
       " 'Pop SUS Dependente',\n",
       " 'Pop Masc',\n",
       " 'Pop Fem',\n",
       " 'MorbHosp',\n",
       " 'Alfabetização',\n",
       " 'Abastecimento',\n",
       " 'Inst Sanitaria',\n",
       " 'Coleta de lixo',\n",
       " 'Unid por tipo',\n",
       " 'Leito Exist',\n",
       " 'Leitos SUS ',\n",
       " 'Leitos complementares Exist',\n",
       " 'Leitos complementares SUS',\n",
       " 'Estabelecimento de Saúde',\n",
       " 'Profissional',\n",
       " 'Equipamento',\n",
       " 'Equipamento Grupo',\n",
       " 'Especialidade intern',\n",
       " 'Morbidade Hospitalar 0-39',\n",
       " 'Morbidade Hospitalar 40 E +',\n",
       " 'Hospitalar por complexidade',\n",
       " 'Ambulatorial por complexidade',\n",
       " 'FAEC',\n",
       " 'Atenção Primária',\n",
       " 'Nascimento FE Mãe',\n",
       " 'Nascimento Tempo Gestação',\n",
       " 'Nascimento Tipo de parto',\n",
       " 'Nascimento cesário',\n",
       " 'Nascimento Vaginal',\n",
       " 'Óbito por cap e f-etaria',\n",
       " 'Óbito Causa Específica',\n",
       " 'Óbito <1ano',\n",
       " 'Óbito <1ano C_Evitaveis',\n",
       " 'Óbito por ciclo de vida',\n",
       " 'SIOPS',\n",
       " 'FNS',\n",
       " 'Qtd e valor Aprovado',\n",
       " 'Qtd e valor Apresentado',\n",
       " 'ACS',\n",
       " 'ESB']"
      ]
     },
     "execution_count": 14,
     "metadata": {},
     "output_type": "execute_result"
    }
   ],
   "source": [
    "excel_file.sheet_names"
   ]
  },
  {
   "cell_type": "code",
   "execution_count": null,
   "metadata": {},
   "outputs": [],
   "source": []
  }
 ],
 "metadata": {
  "kernelspec": {
   "display_name": "machine_learning",
   "language": "python",
   "name": "python3"
  },
  "language_info": {
   "codemirror_mode": {
    "name": "ipython",
    "version": 3
   },
   "file_extension": ".py",
   "mimetype": "text/x-python",
   "name": "python",
   "nbconvert_exporter": "python",
   "pygments_lexer": "ipython3",
   "version": "3.8.16"
  },
  "orig_nbformat": 4
 },
 "nbformat": 4,
 "nbformat_minor": 2
}
